{
 "cells": [
  {
   "cell_type": "code",
   "execution_count": 180,
   "metadata": {
    "collapsed": false
   },
   "outputs": [],
   "source": [
    "# Gradient Descent #\n",
    "####################\n",
    "\n",
    "import numpy as np\n",
    "import pandas as pd\n",
    "\n",
    "# Gradient descent for OLS\n",
    "\n",
    "def GradientDescent(alpha, X, y, maxit):\n",
    "        \n",
    "    beta = np.array([np.ones(np.min(X.shape))]).T\n",
    "    \n",
    "    for i in range(0, maxit):\n",
    "        \n",
    "        # Squared loss function\n",
    "        Loss = 1/np.max(X.shape) * (y - X @ beta) ** 2   \n",
    "        \n",
    "        # Derivative of loss function\n",
    "        deriv = - 2 * X.transpose() @ y + 2 * X.transpose() @ X @ beta\n",
    "        gradient = -1/np.max(X.shape) * deriv\n",
    "        \n",
    "        # Update the beta parameters\n",
    "        beta = beta - alpha * gradient\n",
    "    \n",
    "    return beta"
   ]
  },
  {
   "cell_type": "code",
   "execution_count": 88,
   "metadata": {
    "collapsed": false
   },
   "outputs": [],
   "source": [
    "x = np.array([np.random.beta(1,5,20)])\n",
    "y = np.array([np.random.binomial(10, 0.6, 20)]).T"
   ]
  },
  {
   "cell_type": "code",
   "execution_count": 183,
   "metadata": {
    "collapsed": false
   },
   "outputs": [],
   "source": [
    "beta = GradientDescent(0.01, X, y, 1000)"
   ]
  }
 ],
 "metadata": {
  "kernelspec": {
   "display_name": "Python [conda root]",
   "language": "python",
   "name": "conda-root-py"
  },
  "language_info": {
   "codemirror_mode": {
    "name": "ipython",
    "version": 3
   },
   "file_extension": ".py",
   "mimetype": "text/x-python",
   "name": "python",
   "nbconvert_exporter": "python",
   "pygments_lexer": "ipython3",
   "version": "3.5.2"
  }
 },
 "nbformat": 4,
 "nbformat_minor": 1
}
